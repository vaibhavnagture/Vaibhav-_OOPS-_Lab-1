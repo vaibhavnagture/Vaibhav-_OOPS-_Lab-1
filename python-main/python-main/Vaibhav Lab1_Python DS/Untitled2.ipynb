{
 "cells": [
  {
   "cell_type": "code",
   "execution_count": 1,
   "id": "7130736a-4563-4351-9df8-12c7e0f677a1",
   "metadata": {},
   "outputs": [],
   "source": [
    "import mysql.connector"
   ]
  },
  {
   "cell_type": "code",
   "execution_count": 3,
   "id": "a254fe07-703e-4b3a-a941-85320d8cac06",
   "metadata": {},
   "outputs": [
    {
     "name": "stdout",
     "output_type": "stream",
     "text": [
      "<mysql.connector.connection_cext.CMySQLConnection object at 0x000001DB0A28A9D0>\n"
     ]
    }
   ],
   "source": [
    "import mysql.connector\n",
    "connection = mysql.connector.connect(host=\"localhost\",\n",
    "                                     user= \"root\",\n",
    "                                     passwd=\"root\")\n",
    "\n",
    "print(connection)   "
   ]
  },
  {
   "cell_type": "code",
   "execution_count": 4,
   "id": "27c737bf-b356-4e5d-a788-15e2c4f1a25e",
   "metadata": {},
   "outputs": [],
   "source": [
    "cursorObject = connection.cursor()"
   ]
  },
  {
   "cell_type": "code",
   "execution_count": 5,
   "id": "6c6da806-ab76-48ac-b91a-789756ce83f3",
   "metadata": {},
   "outputs": [],
   "source": [
    "cursorObject.execute(\"CREATE DATABASE e_commerce\")"
   ]
  },
  {
   "cell_type": "code",
   "execution_count": 7,
   "id": "9bbe0f31-bc4c-4c57-a72d-566744c9da64",
   "metadata": {},
   "outputs": [],
   "source": [
    "connection = mysql.connector.connect(host=\"localhost\",\n",
    "                                     user= \"root\",\n",
    "                                     passwd=\"root\",\n",
    "                                     database = \"e_commerce\")\n",
    "cursorObject = connection.cursor()\n",
    "Customers = \"\"\"Create TABLE supplier(\n",
    "                SUPP_ID int primary key,SUPP_NAME Varchar(50),SUPP_CITY Varchar(50),SUPP_PHONE Varchar(10))\"\"\"\n",
    "cursorObject.execute(Customers)"
   ]
  },
  {
   "cell_type": "code",
   "execution_count": 10,
   "id": "1b833929-8bd8-412d-8aed-6b5bf3cc1172",
   "metadata": {},
   "outputs": [],
   "source": [
    "connection = mysql.connector.connect(host=\"localhost\",\n",
    "                                     user= \"root\",\n",
    "                                     passwd=\"root\",\n",
    "                                     database = \"e_commerce\")\n",
    "cursorObject = connection.cursor()\n",
    "Customers = \"\"\"CREATE TABLE customer(\n",
    "                CUS_ID INT NOT NULL,\n",
    "                CUS_NAME VARCHAR(20) DEFAULT NULL,\n",
    "                CUS_PHONE VARCHAR(10),\n",
    "                CUS_CITY VARCHAR(30),\n",
    "                CUS_GENDER CHAR,\n",
    "                PRIMARY KEY (CUS_ID))\"\"\"\n",
    "cursorObject.execute(Customers)"
   ]
  },
  {
   "cell_type": "code",
   "execution_count": 11,
   "id": "e228e726-4adb-4332-bda1-2c5318737a2e",
   "metadata": {},
   "outputs": [],
   "source": [
    "connection = mysql.connector.connect(host=\"localhost\",\n",
    "                                     user= \"root\",\n",
    "                                     passwd=\"root\",\n",
    "                                     database = \"e_commerce\")\n",
    "cursorObject = connection.cursor()\n",
    "Customers = \"\"\"CREATE TABLE category(\n",
    "                CAT_ID INT NOT NULL,\n",
    "                CAT_NAME VARCHAR(20) DEFAULT NULL,\n",
    "                PRIMARY KEY (CAT_ID))\"\"\"\n",
    "cursorObject.execute(Customers)"
   ]
  },
  {
   "cell_type": "code",
   "execution_count": 13,
   "id": "1521dec0-356a-4e08-b08a-ac8725c09c5e",
   "metadata": {},
   "outputs": [],
   "source": [
    "connection = mysql.connector.connect(host=\"localhost\",\n",
    "                                     user= \"root\",\n",
    "                                     passwd=\"root\",\n",
    "                                     database = \"e_commerce\")\n",
    "cursorObject = connection.cursor()\n",
    "Customers = \"\"\"CREATE TABLE product (\n",
    "    PRO_ID INT NOT NULL,\n",
    "    PRO_NAME VARCHAR(20) DEFAULT NULL,\n",
    "    PRO_DESC VARCHAR(60) DEFAULT NULL,\n",
    "    CAT_ID INT NOT NULL,\n",
    "    PRIMARY KEY (PRO_ID),\n",
    "    FOREIGN KEY (CAT_ID) REFERENCES CATEGORY (CAT_ID)\n",
    ")\"\"\"\n",
    "cursorObject.execute(Customers)"
   ]
  },
  {
   "cell_type": "code",
   "execution_count": 15,
   "id": "47d88d3d-2d4b-4b37-84ac-8b59293740f8",
   "metadata": {},
   "outputs": [],
   "source": [
    "connection = mysql.connector.connect(host=\"localhost\",\n",
    "                                     user= \"root\",\n",
    "                                     passwd=\"root\",\n",
    "                                     database = \"e_commerce\")\n",
    "cursorObject = connection.cursor()\n",
    "Customers = \"\"\"CREATE TABLE product_details (\n",
    "    PROD_ID INT NOT NULL,\n",
    "    PRO_ID INT NOT NULL,\n",
    "    SUPP_ID INT NOT NULL,\n",
    "    PROD_PRICE INT NOT NULL,\n",
    "    PRIMARY KEY (PROD_ID),\n",
    "    FOREIGN KEY (PRO_ID) REFERENCES PRODUCT (PRO_ID),\n",
    "    FOREIGN KEY (SUPP_ID) REFERENCES SUPPLIER (SUPP_ID)\n",
    ")\"\"\"\n",
    "cursorObject.execute(Customers)\n",
    "  "
   ]
  },
  {
   "cell_type": "code",
   "execution_count": 18,
   "id": "43737e24-d428-4a3a-916a-0633cef1a896",
   "metadata": {},
   "outputs": [],
   "source": [
    "connection = mysql.connector.connect(host=\"localhost\",\n",
    "                                     user= \"root\",\n",
    "                                     passwd=\"root\",\n",
    "                                     database = \"e_commerce\")\n",
    "cursorObject = connection.cursor()\n",
    "Customers = \"\"\"CREATE TABLE `order` (\n",
    "  ORD_ID INT NOT NULL, \n",
    "  ORD_AMOUNT INT NOT NULL, \n",
    "  ORD_DATE DATE, \n",
    "  CUS_ID INT NOT NULL, \n",
    "  PROD_ID INT NOT NULL,\n",
    "  PRIMARY KEY (ORD_ID),\n",
    "  FOREIGN KEY (CUS_ID) REFERENCES CUSTOMER(CUS_ID),\n",
    "  FOREIGN KEY (PROD_ID) REFERENCES PRODUCT_DETAILS(PROD_ID)\n",
    ")\"\"\"\n",
    "cursorObject.execute(Customers)\n",
    "\n"
   ]
  },
  {
   "cell_type": "code",
   "execution_count": 19,
   "id": "93485138-937b-4c95-88aa-61373c3b0bcf",
   "metadata": {},
   "outputs": [],
   "source": [
    "connection = mysql.connector.connect(host=\"localhost\",\n",
    "                                     user= \"root\",\n",
    "                                     passwd=\"root\",\n",
    "                                     database = \"e_commerce\")\n",
    "cursorObject = connection.cursor()\n",
    "Customers = \"\"\"CREATE TABLE `rating` (\n",
    "    RAT_ID INT NOT NULL,\n",
    "    CUS_ID INT NOT NULL,\n",
    "    SUPP_ID INT NOT NULL,\n",
    "    RAT_RATSTARS INT NOT NULL,\n",
    "    PRIMARY KEY (RAT_ID),\n",
    "    FOREIGN KEY (SUPP_ID) REFERENCES SUPPLIER (SUPP_ID),\n",
    "    FOREIGN KEY (CUS_ID) REFERENCES CUSTOMER (CUS_ID)\n",
    ")\"\"\"\n",
    "cursorObject.execute(Customers)\n"
   ]
  },
  {
   "cell_type": "code",
   "execution_count": 25,
   "id": "c1a59cb2-bccc-452a-8a24-4a5dcf85626e",
   "metadata": {},
   "outputs": [],
   "source": [
    "insert_query = \"INSERT INTO supplier (SUPP_ID, SUPP_NAME, SUPP_CITY, SUPP_PHONE) VALUES (%s, %s, %s, %s)\"\n",
    "\n",
    "values = [\n",
    "    (1, \"Rajesh Retails\", \"Delhi\", \"1234567890\"),\n",
    "    (2, \"Appario Ltd.\", \"Mumbai\", \"258963147032\"),\n",
    "    (3, \"Knome products\", \"Bangalore\", \"9785462315\"),\n",
    "    (4, \"Bansal Retails\", \"Kochi\", \"8975463285\"),\n",
    "    (5, \"Mittal Ltd.\", \"Lucknow\", \"7898456532\")\n",
    "]\n",
    "cursorObject.executemany(insert_query,values)\n",
    "connection.commit()\n"
   ]
  },
  {
   "cell_type": "code",
   "execution_count": 24,
   "id": "f01f4f3d-e3b9-4d47-9849-f345bf101131",
   "metadata": {},
   "outputs": [],
   "source": [
    "alter_query = \"ALTER TABLE supplier MODIFY COLUMN SUPP_PHONE VARCHAR(15)\"\n",
    "cursorObject.execute(alter_query)"
   ]
  },
  {
   "cell_type": "code",
   "execution_count": 26,
   "id": "ed624011-fb77-4bae-b261-5d7b72f44d94",
   "metadata": {},
   "outputs": [],
   "source": [
    "alter_query = \"ALTER TABLE customer MODIFY COLUMN CUS_PHONE VARCHAR(15)\"\n",
    "cursorObject.execute(alter_query)\n",
    "\n"
   ]
  },
  {
   "cell_type": "code",
   "execution_count": 27,
   "id": "1531c901-52fa-4f60-b3a0-8012cf0f0814",
   "metadata": {},
   "outputs": [],
   "source": [
    "insert_query = \"INSERT INTO customer (CUS_ID, CUS_NAME, CUS_PHONE, CUS_CITY, CUS_GENDER) VALUES (%s, %s, %s, %s, %s)\"\n",
    "\n",
    "# Data to be inserted\n",
    "values = [\n",
    "    (1, \"AAKASH\", \"9999999999\", \"DELHI\", \"M\"),\n",
    "    (2, \"AMAN\", \"9785463215\", \"NOIDA\", \"M\"),\n",
    "    (3, \"NEHA\", \"9999999998\", \"MUMBAI\", \"F\"),\n",
    "    (4, \"MEGHA\", \"9994562399\", \"KOLKATA\", \"F\"),\n",
    "    (5, \"PULKIT\", \"7895999999\", \"LUCKNOW\", \"M\")\n",
    "]\n",
    "cursorObject.executemany(insert_query,values)\n",
    "connection.commit()"
   ]
  },
  {
   "cell_type": "code",
   "execution_count": 28,
   "id": "347911b4-0135-44e8-a91a-c51348c05816",
   "metadata": {},
   "outputs": [],
   "source": [
    "insert_query = \"INSERT INTO category (CAT_ID, CAT_NAME) VALUES (%s, %s)\"\n",
    "values = [(1, 'BOOKS'),\n",
    "(2, 'GAMES'),\n",
    "(3, 'GROCERIES'),\n",
    "(4, 'ELECTRONICS'),\n",
    "(5, 'CLOTHES')]\n",
    "cursorObject.executemany(insert_query,values)\n",
    "connection.commit()"
   ]
  },
  {
   "cell_type": "code",
   "execution_count": 29,
   "id": "4f4fff20-8a21-466c-8a46-6dfa43a8df12",
   "metadata": {},
   "outputs": [],
   "source": [
    "insert_query = \"INSERT INTO product (PRO_ID, PRO_NAME, PRO_DESC, CAT_ID) VALUES (%s, %s, %s, %s)\"\n",
    "values = [\n",
    "    (1, 'GTA V', 'DFJDJFDJFDJFDJFJF', 2),\n",
    "    (2, 'TSHIRT', 'DFDFJDFJDKFD', 5),\n",
    "    (3, 'ROG LAPTOP', 'DFNTTNTNTERND', 4),\n",
    "    (4, 'OATS', 'REURENTBTOTH', 3),\n",
    "    (5, 'HARRY POTTER', 'NBEMCTHTJTH', 1)\n",
    "]\n",
    "cursorObject.executemany(insert_query,values)\n",
    "connection.commit()"
   ]
  },
  {
   "cell_type": "code",
   "execution_count": 31,
   "id": "36100993-e877-4aa4-b67f-188392559083",
   "metadata": {},
   "outputs": [],
   "source": [
    "insert_query = \"INSERT INTO product_details (PROD_ID, PRO_ID, SUPP_ID, PROD_PRICE) VALUES (%s, %s, %s, %s)\"\n",
    "values= [\n",
    "    (1, 1, 2, 1500),\n",
    "    (2, 3, 5, 30000),\n",
    "    (3, 5, 1, 3000),\n",
    "    (4, 2, 3, 2500),\n",
    "    (5, 4, 1, 1000)\n",
    "]\n",
    "cursorObject.executemany(insert_query,values)\n",
    "connection.commit()"
   ]
  },
  {
   "cell_type": "code",
   "execution_count": 35,
   "id": "2fc8bbd4-b0ec-4721-8dcf-ce53fe88a9ee",
   "metadata": {},
   "outputs": [],
   "source": [
    "insert_query = \"INSERT INTO `order` (ORD_ID, ORD_AMOUNT, ORD_DATE, CUS_ID, PROD_ID) VALUES (%s, %s, %s, %s, %s)\"\n",
    "values = [\n",
    "    (20, 1500, '2021-10-12', 3, 5),\n",
    "    (25, 30500, '2021-09-16', 5, 2),\n",
    "    (26, 2000, '2021-10-05', 1, 1),\n",
    "    (30, 3500, '2021-08-16', 4, 3),\n",
    "    (50, 2000, '2021-10-06', 2, 1)\n",
    "]\n",
    "cursorObject.executemany(insert_query,values)\n",
    "connection.commit()"
   ]
  },
  {
   "cell_type": "code",
   "execution_count": 40,
   "id": "d9ee7123-f5e2-422f-8b17-86bb323fadea",
   "metadata": {},
   "outputs": [
    {
     "ename": "InterfaceError",
     "evalue": "Failed executing the operation; Not all parameters were used in the SQL statement",
     "output_type": "error",
     "traceback": [
      "\u001b[1;31m---------------------------------------------------------------------------\u001b[0m",
      "\u001b[1;31mInterfaceError\u001b[0m                            Traceback (most recent call last)",
      "Cell \u001b[1;32mIn[40], line 9\u001b[0m\n\u001b[0;32m      1\u001b[0m insert_query \u001b[38;5;241m=\u001b[39m \u001b[38;5;124m\"\u001b[39m\u001b[38;5;124mINSERT INTO rating (RAT_ID, CUS_ID,SUPP_ID, RAT_RATSTARS) VALUES (\u001b[39m\u001b[38;5;124m%\u001b[39m\u001b[38;5;124mS,\u001b[39m\u001b[38;5;132;01m%s\u001b[39;00m\u001b[38;5;124m, \u001b[39m\u001b[38;5;132;01m%s\u001b[39;00m\u001b[38;5;124m, \u001b[39m\u001b[38;5;132;01m%s\u001b[39;00m\u001b[38;5;124m)\u001b[39m\u001b[38;5;124m\"\u001b[39m\n\u001b[0;32m      2\u001b[0m values \u001b[38;5;241m=\u001b[39m [\n\u001b[0;32m      3\u001b[0m     (\u001b[38;5;241m1\u001b[39m,\u001b[38;5;241m2\u001b[39m, \u001b[38;5;241m2\u001b[39m, \u001b[38;5;241m4\u001b[39m),\n\u001b[0;32m      4\u001b[0m     (\u001b[38;5;241m2\u001b[39m,\u001b[38;5;241m3\u001b[39m, \u001b[38;5;241m4\u001b[39m, \u001b[38;5;241m3\u001b[39m),\n\u001b[1;32m   (...)\u001b[0m\n\u001b[0;32m      7\u001b[0m     (\u001b[38;5;241m5\u001b[39m,\u001b[38;5;241m4\u001b[39m, \u001b[38;5;241m5\u001b[39m, \u001b[38;5;241m4\u001b[39m)\n\u001b[0;32m      8\u001b[0m ]\n\u001b[1;32m----> 9\u001b[0m cursorObject\u001b[38;5;241m.\u001b[39mexecutemany(insert_query,values)\n\u001b[0;32m     10\u001b[0m connection\u001b[38;5;241m.\u001b[39mcommit()\n",
      "File \u001b[1;32m~\\anaconda3\\Lib\\site-packages\\mysql\\connector\\cursor_cext.py:498\u001b[0m, in \u001b[0;36mCMySQLCursor.executemany\u001b[1;34m(self, operation, seq_params)\u001b[0m\n\u001b[0;32m    496\u001b[0m     \u001b[38;5;28mself\u001b[39m\u001b[38;5;241m.\u001b[39m_rowcount \u001b[38;5;241m=\u001b[39m \u001b[38;5;241m0\u001b[39m\n\u001b[0;32m    497\u001b[0m     \u001b[38;5;28;01mreturn\u001b[39;00m \u001b[38;5;28;01mNone\u001b[39;00m\n\u001b[1;32m--> 498\u001b[0m stmt \u001b[38;5;241m=\u001b[39m \u001b[38;5;28mself\u001b[39m\u001b[38;5;241m.\u001b[39m_batch_insert(operation, seq_params)\n\u001b[0;32m    499\u001b[0m \u001b[38;5;28;01mif\u001b[39;00m stmt \u001b[38;5;129;01mis\u001b[39;00m \u001b[38;5;129;01mnot\u001b[39;00m \u001b[38;5;28;01mNone\u001b[39;00m:\n\u001b[0;32m    500\u001b[0m     \u001b[38;5;28mself\u001b[39m\u001b[38;5;241m.\u001b[39m_executed \u001b[38;5;241m=\u001b[39m stmt\n",
      "File \u001b[1;32m~\\anaconda3\\Lib\\site-packages\\mysql\\connector\\cursor_cext.py:452\u001b[0m, in \u001b[0;36mCMySQLCursor._batch_insert\u001b[1;34m(self, operation, seq_params)\u001b[0m\n\u001b[0;32m    450\u001b[0m     \u001b[38;5;28;01mraise\u001b[39;00m ProgrammingError(\u001b[38;5;28mstr\u001b[39m(err)) \u001b[38;5;28;01mfrom\u001b[39;00m \u001b[38;5;21;01merr\u001b[39;00m\n\u001b[0;32m    451\u001b[0m \u001b[38;5;28;01mexcept\u001b[39;00m \u001b[38;5;167;01mException\u001b[39;00m \u001b[38;5;28;01mas\u001b[39;00m err:\n\u001b[1;32m--> 452\u001b[0m     \u001b[38;5;28;01mraise\u001b[39;00m InterfaceError(\u001b[38;5;124mf\u001b[39m\u001b[38;5;124m\"\u001b[39m\u001b[38;5;124mFailed executing the operation; \u001b[39m\u001b[38;5;132;01m{\u001b[39;00merr\u001b[38;5;132;01m}\u001b[39;00m\u001b[38;5;124m\"\u001b[39m) \u001b[38;5;28;01mfrom\u001b[39;00m \u001b[38;5;28;01mNone\u001b[39;00m\n",
      "\u001b[1;31mInterfaceError\u001b[0m: Failed executing the operation; Not all parameters were used in the SQL statement"
     ]
    }
   ],
   "source": [
    "insert_query = \"INSERT INTO rating (RAT_ID, CUS_ID, SUPP_ID, RAT_RATSTARS) VALUES (%s, %s, %s, %s)\"\n",
    "values = [\n",
    "    (1, 2, 2, 4),\n",
    "    (2, 3, 4, 3),\n",
    "    (3, 5, 1, 5),\n",
    "    (4, 1, 3, 2),\n",
    "    (5, 4, 5, 4)\n",
    "]\n",
    "\n"
   ]
  },
  {
   "cell_type": "code",
   "execution_count": 49,
   "id": "7a8d7f22-af68-4ac6-92a1-667276d5b11b",
   "metadata": {},
   "outputs": [
    {
     "name": "stdout",
     "output_type": "stream",
     "text": [
      "(50, 2000, datetime.date(2021, 10, 6), 2, 1, 'GTA V')\n"
     ]
    }
   ],
   "source": [
    "Query4 = \"\"\"\n",
    "   SELECT `order`.*, product.pro_name \n",
    "FROM `order` \n",
    "JOIN product_details ON `order`.prod_id = product_details.prod_id \n",
    "JOIN product ON product_details.pro_id = product.pro_id \n",
    "WHERE `order`.cus_id = 2;\n",
    "\"\"\"\n",
    "cursorObject.execute(Query4)\n",
    "\n",
    "results = cursorObject.fetchall()\n",
    "\n",
    "for row in results:\n",
    "    print(row)\n"
   ]
  },
  {
   "cell_type": "code",
   "execution_count": 25,
   "id": "d9b4d089-32f3-475e-81f6-eae80d345c2a",
   "metadata": {},
   "outputs": [
    {
     "name": "stdout",
     "output_type": "stream",
     "text": [
      "(1, 'Rajesh Retails', 'Delhi', '1234567890')\n"
     ]
    }
   ],
   "source": [
    "Query5 = \"\"\"\n",
    "    SELECT s.*\n",
    "FROM supplier s\n",
    "JOIN product_details pd ON s.SUPP_ID = pd.SUPP_ID\n",
    "GROUP BY s.SUPP_ID\n",
    "HAVING COUNT(pd.PROD_ID) > 1;\n",
    "\n",
    "\"\"\"\n",
    "cursorObject.execute(Query5)\n",
    "results = cursorObject.fetchall()\n",
    "\n",
    "for row in results:\n",
    "    print(row)"
   ]
  },
  {
   "cell_type": "code",
   "execution_count": 64,
   "id": "a47e8faf-1ff5-40cd-bd1c-b327531c3f67",
   "metadata": {},
   "outputs": [
    {
     "data": {
      "text/html": [
       "<div>\n",
       "<style scoped>\n",
       "    .dataframe tbody tr th:only-of-type {\n",
       "        vertical-align: middle;\n",
       "    }\n",
       "\n",
       "    .dataframe tbody tr th {\n",
       "        vertical-align: top;\n",
       "    }\n",
       "\n",
       "    .dataframe thead th {\n",
       "        text-align: right;\n",
       "    }\n",
       "</style>\n",
       "<table border=\"1\" class=\"dataframe\">\n",
       "  <thead>\n",
       "    <tr style=\"text-align: right;\">\n",
       "      <th></th>\n",
       "      <th>CAT_ID</th>\n",
       "      <th>CAT_NAME</th>\n",
       "    </tr>\n",
       "  </thead>\n",
       "  <tbody>\n",
       "    <tr>\n",
       "      <th>0</th>\n",
       "      <td>3</td>\n",
       "      <td>GROCERIES</td>\n",
       "    </tr>\n",
       "    <tr>\n",
       "      <th>1</th>\n",
       "      <td>4</td>\n",
       "      <td>ELECTRONICS</td>\n",
       "    </tr>\n",
       "    <tr>\n",
       "      <th>2</th>\n",
       "      <td>2</td>\n",
       "      <td>GAMES</td>\n",
       "    </tr>\n",
       "    <tr>\n",
       "      <th>3</th>\n",
       "      <td>1</td>\n",
       "      <td>BOOKS</td>\n",
       "    </tr>\n",
       "  </tbody>\n",
       "</table>\n",
       "</div>"
      ],
      "text/plain": [
       "   CAT_ID     CAT_NAME\n",
       "0       3    GROCERIES\n",
       "1       4  ELECTRONICS\n",
       "2       2        GAMES\n",
       "3       1        BOOKS"
      ]
     },
     "execution_count": 64,
     "metadata": {},
     "output_type": "execute_result"
    }
   ],
   "source": [
    "Query6 = \"\"\"\n",
    "SELECT category.*\n",
    "FROM `order`\n",
    "INNER JOIN product_details ON `order`.prod_id = product_details.prod_id\n",
    "INNER JOIN product ON product.pro_id = product_details.pro_id\n",
    "INNER JOIN category ON category.cat_id = product.cat_id\n",
    "GROUP BY category.CAT_ID, category.CAT_NAME\n",
    "HAVING MIN(`order`.ord_amount);\n",
    "\"\"\"\n",
    "\n",
    "cursorObject.execute(Query6)\n",
    "output_df = pd.DataFrame(cursorObject.fetchall(), columns=['CAT_ID', 'CAT_NAME'])\n",
    "output_df"
   ]
  },
  {
   "cell_type": "code",
   "execution_count": 62,
   "id": "0a9e3b61-5748-4395-b533-ce706078ed55",
   "metadata": {},
   "outputs": [],
   "source": [
    "    connection.close()\n"
   ]
  },
  {
   "cell_type": "code",
   "execution_count": 63,
   "id": "689ae036-ccea-4c44-b976-2865e1aaaf4e",
   "metadata": {},
   "outputs": [],
   "source": [
    "connection = mysql.connector.connect(host=\"localhost\",\n",
    "                                     user= \"root\",\n",
    "                                     passwd=\"root\",\n",
    "                                     database = \"e_commerce\")\n",
    "cursorObject = connection.cursor()"
   ]
  },
  {
   "cell_type": "code",
   "execution_count": 60,
   "id": "5a20a1d8-6393-479f-9d05-61269bf68a7e",
   "metadata": {},
   "outputs": [],
   "source": [
    "import pandas as pd"
   ]
  },
  {
   "cell_type": "code",
   "execution_count": 66,
   "id": "8d35a101-0bb4-4ab7-98f8-283d3a7eb890",
   "metadata": {},
   "outputs": [
    {
     "data": {
      "text/html": [
       "<div>\n",
       "<style scoped>\n",
       "    .dataframe tbody tr th:only-of-type {\n",
       "        vertical-align: middle;\n",
       "    }\n",
       "\n",
       "    .dataframe tbody tr th {\n",
       "        vertical-align: top;\n",
       "    }\n",
       "\n",
       "    .dataframe thead th {\n",
       "        text-align: right;\n",
       "    }\n",
       "</style>\n",
       "<table border=\"1\" class=\"dataframe\">\n",
       "  <thead>\n",
       "    <tr style=\"text-align: right;\">\n",
       "      <th></th>\n",
       "      <th>PRO_ID</th>\n",
       "      <th>PRO_NAME</th>\n",
       "    </tr>\n",
       "  </thead>\n",
       "  <tbody>\n",
       "    <tr>\n",
       "      <th>0</th>\n",
       "      <td>5</td>\n",
       "      <td>HARRY POTTER</td>\n",
       "    </tr>\n",
       "    <tr>\n",
       "      <th>1</th>\n",
       "      <td>1</td>\n",
       "      <td>GTA V</td>\n",
       "    </tr>\n",
       "  </tbody>\n",
       "</table>\n",
       "</div>"
      ],
      "text/plain": [
       "   PRO_ID      PRO_NAME\n",
       "0       5  HARRY POTTER\n",
       "1       1         GTA V"
      ]
     },
     "execution_count": 66,
     "metadata": {},
     "output_type": "execute_result"
    }
   ],
   "source": [
    "Query7 = \"\"\"\n",
    "SELECT product.pro_id, product.pro_name\n",
    "FROM product\n",
    "INNER JOIN `order` AS ord ON ord.prod_id = product.pro_id\n",
    "WHERE ord.ord_date > '2021-10-05';\n",
    "\"\"\"\n",
    "\n",
    "cursorObject.execute(Query7)\n",
    "output_df = pd.DataFrame(cursorObject.fetchall(), columns=['PRO_ID', 'PRO_NAME'])\n",
    "output_df"
   ]
  },
  {
   "cell_type": "code",
   "execution_count": 11,
   "id": "a45856a6-f740-4e9f-bbb6-7026b228b38d",
   "metadata": {},
   "outputs": [
    {
     "data": {
      "text/html": [
       "<div>\n",
       "<style scoped>\n",
       "    .dataframe tbody tr th:only-of-type {\n",
       "        vertical-align: middle;\n",
       "    }\n",
       "\n",
       "    .dataframe tbody tr th {\n",
       "        vertical-align: top;\n",
       "    }\n",
       "\n",
       "    .dataframe thead th {\n",
       "        text-align: right;\n",
       "    }\n",
       "</style>\n",
       "<table border=\"1\" class=\"dataframe\">\n",
       "  <thead>\n",
       "    <tr style=\"text-align: right;\">\n",
       "      <th></th>\n",
       "      <th>CUS_GENDER</th>\n",
       "      <th>num_customers</th>\n",
       "    </tr>\n",
       "  </thead>\n",
       "  <tbody>\n",
       "    <tr>\n",
       "      <th>0</th>\n",
       "      <td>M</td>\n",
       "      <td>1</td>\n",
       "    </tr>\n",
       "    <tr>\n",
       "      <th>1</th>\n",
       "      <td>F</td>\n",
       "      <td>1</td>\n",
       "    </tr>\n",
       "  </tbody>\n",
       "</table>\n",
       "</div>"
      ],
      "text/plain": [
       "  CUS_GENDER  num_customers\n",
       "0          M              1\n",
       "1          F              1"
      ]
     },
     "execution_count": 11,
     "metadata": {},
     "output_type": "execute_result"
    }
   ],
   "source": [
    "Query3 = \"\"\"SELECT c.CUS_GENDER, COUNT(*) AS num_customers\n",
    "FROM customer c\n",
    "INNER JOIN `order` o ON c.cus_id = o.cus_id\n",
    "WHERE o.ord_amount >= 3000\n",
    "GROUP BY c.CUS_GENDER;\"\"\"\n",
    "cursorObject.execute(Query3)\n",
    "output_df = pd.DataFrame(cursorObject.fetchall(), columns=['CUS_GENDER','num_customers'])\n",
    "output_df\n"
   ]
  },
  {
   "cell_type": "code",
   "execution_count": 7,
   "id": "2522b649-4380-4d0a-af2d-5aae779f92c2",
   "metadata": {},
   "outputs": [],
   "source": [
    "cursorObject = connection.cursor()\n"
   ]
  },
  {
   "cell_type": "code",
   "execution_count": 6,
   "id": "f93ce2e2-3040-431e-9dfc-d985079a41be",
   "metadata": {},
   "outputs": [],
   "source": [
    "connection = mysql.connector.connect(host=\"localhost\",\n",
    "                                     user= \"root\",\n",
    "                                     passwd=\"root\",\n",
    "                                     database = \"e_commerce\")\n",
    "cursorObject = connection.cursor()"
   ]
  },
  {
   "cell_type": "code",
   "execution_count": 4,
   "id": "820e8f76-9ba2-4bb7-a346-7224e9168589",
   "metadata": {},
   "outputs": [],
   "source": [
    "import mysql.connector"
   ]
  },
  {
   "cell_type": "code",
   "execution_count": 5,
   "id": "646bdc17-0bbc-457d-8de6-eb263e586be7",
   "metadata": {},
   "outputs": [],
   "source": [
    "import pandas as pd"
   ]
  },
  {
   "cell_type": "code",
   "execution_count": 13,
   "id": "6afe2f28-1fd7-4430-ac23-0fc8122eb4c5",
   "metadata": {},
   "outputs": [
    {
     "data": {
      "text/html": [
       "<div>\n",
       "<style scoped>\n",
       "    .dataframe tbody tr th:only-of-type {\n",
       "        vertical-align: middle;\n",
       "    }\n",
       "\n",
       "    .dataframe tbody tr th {\n",
       "        vertical-align: top;\n",
       "    }\n",
       "\n",
       "    .dataframe thead th {\n",
       "        text-align: right;\n",
       "    }\n",
       "</style>\n",
       "<table border=\"1\" class=\"dataframe\">\n",
       "  <thead>\n",
       "    <tr style=\"text-align: right;\">\n",
       "      <th></th>\n",
       "      <th>total_order_amount</th>\n",
       "    </tr>\n",
       "  </thead>\n",
       "  <tbody>\n",
       "    <tr>\n",
       "      <th>0</th>\n",
       "      <td>34500</td>\n",
       "    </tr>\n",
       "  </tbody>\n",
       "</table>\n",
       "</div>"
      ],
      "text/plain": [
       "  total_order_amount\n",
       "0              34500"
      ]
     },
     "execution_count": 13,
     "metadata": {},
     "output_type": "execute_result"
    }
   ],
   "source": [
    "Query10 = \"\"\"SELECT SUM(o.ord_amount) AS total_order_amount\n",
    "FROM customer c\n",
    "INNER JOIN `order` o ON c.cus_id = o.cus_id\n",
    "WHERE c.CUS_GENDER = 'M';\n",
    "\"\"\"\n",
    "cursorObject.execute(Query10)\n",
    "output_df = pd.DataFrame(cursorObject.fetchall(), columns=['total_order_amount'])\n",
    "output_df"
   ]
  },
  {
   "cell_type": "code",
   "execution_count": 14,
   "id": "78378985-25b7-448a-8f89-e6bd05f4cf3b",
   "metadata": {},
   "outputs": [
    {
     "data": {
      "text/html": [
       "<div>\n",
       "<style scoped>\n",
       "    .dataframe tbody tr th:only-of-type {\n",
       "        vertical-align: middle;\n",
       "    }\n",
       "\n",
       "    .dataframe tbody tr th {\n",
       "        vertical-align: top;\n",
       "    }\n",
       "\n",
       "    .dataframe thead th {\n",
       "        text-align: right;\n",
       "    }\n",
       "</style>\n",
       "<table border=\"1\" class=\"dataframe\">\n",
       "  <thead>\n",
       "    <tr style=\"text-align: right;\">\n",
       "      <th></th>\n",
       "      <th>CUS_NAME</th>\n",
       "      <th>CUS_GENDER</th>\n",
       "    </tr>\n",
       "  </thead>\n",
       "  <tbody>\n",
       "    <tr>\n",
       "      <th>0</th>\n",
       "      <td>AAKASH</td>\n",
       "      <td>M</td>\n",
       "    </tr>\n",
       "    <tr>\n",
       "      <th>1</th>\n",
       "      <td>AMAN</td>\n",
       "      <td>M</td>\n",
       "    </tr>\n",
       "    <tr>\n",
       "      <th>2</th>\n",
       "      <td>NEHA</td>\n",
       "      <td>F</td>\n",
       "    </tr>\n",
       "    <tr>\n",
       "      <th>3</th>\n",
       "      <td>MEGHA</td>\n",
       "      <td>F</td>\n",
       "    </tr>\n",
       "  </tbody>\n",
       "</table>\n",
       "</div>"
      ],
      "text/plain": [
       "  CUS_NAME CUS_GENDER\n",
       "0   AAKASH          M\n",
       "1     AMAN          M\n",
       "2     NEHA          F\n",
       "3    MEGHA          F"
      ]
     },
     "execution_count": 14,
     "metadata": {},
     "output_type": "execute_result"
    }
   ],
   "source": [
    "Query9 = \"\"\"SELECT CUS_NAME, CUS_GENDER\n",
    "FROM customer\n",
    "WHERE CUS_NAME LIKE 'A%' OR CUS_NAME LIKE '%A';\n",
    "\"\"\"\n",
    "cursorObject.execute(Query9)\n",
    "output_df = pd.DataFrame(cursorObject.fetchall(), columns=['CUS_NAME','CUS_GENDER'])\n",
    "output_df"
   ]
  },
  {
   "cell_type": "code",
   "execution_count": 17,
   "id": "d7d10bd9-3414-4a40-bcb3-08750c6b5ae7",
   "metadata": {},
   "outputs": [
    {
     "data": {
      "text/html": [
       "<div>\n",
       "<style scoped>\n",
       "    .dataframe tbody tr th:only-of-type {\n",
       "        vertical-align: middle;\n",
       "    }\n",
       "\n",
       "    .dataframe tbody tr th {\n",
       "        vertical-align: top;\n",
       "    }\n",
       "\n",
       "    .dataframe thead th {\n",
       "        text-align: right;\n",
       "    }\n",
       "</style>\n",
       "<table border=\"1\" class=\"dataframe\">\n",
       "  <thead>\n",
       "    <tr style=\"text-align: right;\">\n",
       "      <th></th>\n",
       "      <th>SUPP_ID</th>\n",
       "      <th>SUPP_NAME</th>\n",
       "      <th>RAT_RATSTARS</th>\n",
       "      <th>CUS_NAME</th>\n",
       "    </tr>\n",
       "  </thead>\n",
       "  <tbody>\n",
       "    <tr>\n",
       "      <th>0</th>\n",
       "      <td>1</td>\n",
       "      <td>Rajesh Retails</td>\n",
       "      <td>5</td>\n",
       "      <td>PULKIT</td>\n",
       "    </tr>\n",
       "    <tr>\n",
       "      <th>1</th>\n",
       "      <td>2</td>\n",
       "      <td>Appario Ltd.</td>\n",
       "      <td>4</td>\n",
       "      <td>AMAN</td>\n",
       "    </tr>\n",
       "    <tr>\n",
       "      <th>2</th>\n",
       "      <td>5</td>\n",
       "      <td>Mittal Ltd.</td>\n",
       "      <td>4</td>\n",
       "      <td>MEGHA</td>\n",
       "    </tr>\n",
       "  </tbody>\n",
       "</table>\n",
       "</div>"
      ],
      "text/plain": [
       "   SUPP_ID       SUPP_NAME  RAT_RATSTARS CUS_NAME\n",
       "0        1  Rajesh Retails             5   PULKIT\n",
       "1        2    Appario Ltd.             4     AMAN\n",
       "2        5     Mittal Ltd.             4    MEGHA"
      ]
     },
     "execution_count": 17,
     "metadata": {},
     "output_type": "execute_result"
    }
   ],
   "source": [
    "Query8 = \"\"\"SELECT s.SUPP_ID, s.SUPP_NAME, r.RAT_RATSTARS, c.CUS_NAME\n",
    "FROM supplier s\n",
    "JOIN rating r ON s.SUPP_ID = r.SUPP_ID\n",
    "JOIN customer c ON r.CUS_ID = c.CUS_ID\n",
    "ORDER BY r.RAT_RATSTARS DESC\n",
    "LIMIT 3;\n",
    "\n",
    "\"\"\"\n",
    "cursorObject.execute(Query8)\n",
    "output_df = pd.DataFrame(cursorObject.fetchall(), columns=['SUPP_ID','SUPP_NAME','RAT_RATSTARS','CUS_NAME'])\n",
    "output_df"
   ]
  },
  {
   "cell_type": "code",
   "execution_count": 24,
   "id": "06939afb-d63c-4581-9b93-839ba82db5c1",
   "metadata": {},
   "outputs": [
    {
     "data": {
      "text/html": [
       "<div>\n",
       "<style scoped>\n",
       "    .dataframe tbody tr th:only-of-type {\n",
       "        vertical-align: middle;\n",
       "    }\n",
       "\n",
       "    .dataframe tbody tr th {\n",
       "        vertical-align: top;\n",
       "    }\n",
       "\n",
       "    .dataframe thead th {\n",
       "        text-align: right;\n",
       "    }\n",
       "</style>\n",
       "<table border=\"1\" class=\"dataframe\">\n",
       "  <thead>\n",
       "    <tr style=\"text-align: right;\">\n",
       "      <th></th>\n",
       "      <th>CUS_ID</th>\n",
       "      <th>CUS_GENDER</th>\n",
       "      <th>CUS_CITY</th>\n",
       "      <th>CUS_NAME</th>\n",
       "    </tr>\n",
       "  </thead>\n",
       "  <tbody>\n",
       "    <tr>\n",
       "      <th>0</th>\n",
       "      <td>1</td>\n",
       "      <td>M</td>\n",
       "      <td>DELHI</td>\n",
       "      <td>AAKASH</td>\n",
       "    </tr>\n",
       "    <tr>\n",
       "      <th>1</th>\n",
       "      <td>2</td>\n",
       "      <td>M</td>\n",
       "      <td>NOIDA</td>\n",
       "      <td>AMAN</td>\n",
       "    </tr>\n",
       "    <tr>\n",
       "      <th>2</th>\n",
       "      <td>3</td>\n",
       "      <td>F</td>\n",
       "      <td>MUMBAI</td>\n",
       "      <td>NEHA</td>\n",
       "    </tr>\n",
       "    <tr>\n",
       "      <th>3</th>\n",
       "      <td>4</td>\n",
       "      <td>F</td>\n",
       "      <td>KOLKATA</td>\n",
       "      <td>MEGHA</td>\n",
       "    </tr>\n",
       "    <tr>\n",
       "      <th>4</th>\n",
       "      <td>5</td>\n",
       "      <td>M</td>\n",
       "      <td>LUCKNOW</td>\n",
       "      <td>PULKIT</td>\n",
       "    </tr>\n",
       "  </tbody>\n",
       "</table>\n",
       "</div>"
      ],
      "text/plain": [
       "   CUS_ID CUS_GENDER CUS_CITY CUS_NAME\n",
       "0       1          M    DELHI   AAKASH\n",
       "1       2          M    NOIDA     AMAN\n",
       "2       3          F   MUMBAI     NEHA\n",
       "3       4          F  KOLKATA    MEGHA\n",
       "4       5          M  LUCKNOW   PULKIT"
      ]
     },
     "execution_count": 24,
     "metadata": {},
     "output_type": "execute_result"
    }
   ],
   "source": [
    "Query11 = \"\"\"SELECT c.CUS_ID, c.CUS_GENDER, c.CUS_CITY, c.CUS_NAME\n",
    "FROM Customer c\n",
    "LEFT JOIN `order` o ON c.CUS_ID = o.cus_id;\n",
    "\"\"\"\n",
    "cursorObject.execute(Query11)\n",
    "output_df = pd.DataFrame(cursorObject.fetchall(), columns=['CUS_ID','CUS_GENDER','CUS_CITY','CUS_NAME'])\n",
    "output_df"
   ]
  },
  {
   "cell_type": "code",
   "execution_count": null,
   "id": "28a6815a-e19f-489a-8e29-6491fd8ea02f",
   "metadata": {},
   "outputs": [],
   "source": []
  },
  {
   "cell_type": "code",
   "execution_count": null,
   "id": "18874a03-fbf6-4bfe-8f60-1808341f6d9b",
   "metadata": {},
   "outputs": [],
   "source": []
  }
 ],
 "metadata": {
  "kernelspec": {
   "display_name": "Python 3 (ipykernel)",
   "language": "python",
   "name": "python3"
  },
  "language_info": {
   "codemirror_mode": {
    "name": "ipython",
    "version": 3
   },
   "file_extension": ".py",
   "mimetype": "text/x-python",
   "name": "python",
   "nbconvert_exporter": "python",
   "pygments_lexer": "ipython3",
   "version": "3.11.7"
  }
 },
 "nbformat": 4,
 "nbformat_minor": 5
}
